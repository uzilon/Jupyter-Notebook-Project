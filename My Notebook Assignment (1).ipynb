{
  "metadata": {
    "kernelspec": {
      "name": "python",
      "display_name": "Pyolite",
      "language": "python"
    },
    "language_info": {
      "codemirror_mode": {
        "name": "python",
        "version": 3
      },
      "file_extension": ".py",
      "mimetype": "text/x-python",
      "name": "python",
      "nbconvert_exporter": "python",
      "pygments_lexer": "ipython3",
      "version": "3.8"
    }
  },
  "nbformat_minor": 4,
  "nbformat": 4,
  "cells": [
    {
      "cell_type": "markdown",
      "source": "<center>\n    <img src=\"https://cf-courses-data.s3.us.cloud-object-storage.appdomain.cloud/IBMDeveloperSkillsNetwork-DS0105EN-SkillsNetwork/labs/Module2/images/SN_web_lightmode.png\" width=\"300\" alt=\"cognitiveclass.ai logo\">\n</center>\n",
      "metadata": {}
    },
    {
      "cell_type": "markdown",
      "source": "#### Add your code below following the instructions given in the course\n",
      "metadata": {}
    },
    {
      "cell_type": "markdown",
      "source": "# Coursera Data Science Hands On Jupiter Lab Project",
      "metadata": {}
    },
    {
      "cell_type": "markdown",
      "source": "### Final Project Task for Data Tools in Data Science",
      "metadata": {}
    },
    {
      "cell_type": "markdown",
      "source": "**Data Science Languages**\n1. Python\n2. R\n3. Java Script\n4. SQL\n5. Scala\n6. Julia",
      "metadata": {}
    },
    {
      "cell_type": "markdown",
      "source": "**Data Science Libraries**\n\n* TensorFlow.\n* NumPy.\n* SciPy.\n* Pandas.\n* Matplotlib.\n* Keras.\n* SciKit-Learn.\n* PyTorch",
      "metadata": {}
    },
    {
      "cell_type": "markdown",
      "source": "**Data Science Tools**\n* Apache Spark\n* IBM Watson Studio\n* IBM SPSS Modeler\n* IBM SPSS Statistics\n* Jupyter Notebook\n* Tableau\n* PowerBI",
      "metadata": {}
    },
    {
      "cell_type": "markdown",
      "source": "### The Below Code Shows the Use of Basic Math Functions in Python\n1. Multiply and add numbers\n2. Convert minutes to Hours",
      "metadata": {}
    },
    {
      "cell_type": "code",
      "source": "a = 20\nb = 4\n\nprint(\"%d + %d = %d\" %(a,b,a+b))\nprint(\"%d * %d = %d\" %(a,b,a*b))",
      "metadata": {
        "trusted": true
      },
      "execution_count": 9,
      "outputs": [
        {
          "name": "stdout",
          "text": "20 + 4 = 24\n20 * 4 = 80\n",
          "output_type": "stream"
        }
      ]
    },
    {
      "cell_type": "code",
      "source": "#60 minutes make 1 Hour\n\nTime_mins = 180\n\nprint(\"Time_hours = %d\" %(Time_mins/60))",
      "metadata": {
        "trusted": true
      },
      "execution_count": 10,
      "outputs": [
        {
          "name": "stdout",
          "text": "Time_hours = 3\n",
          "output_type": "stream"
        }
      ]
    },
    {
      "cell_type": "markdown",
      "source": "#### Objectives\n1. Create a markdown cell for an introduction\n2. Create a markdown cell to list data science languages\n3. Create a markdown cell to list data science libraries\n4. Create a markdown cell with a table of Data Science tools. \n5. Create a markdown cell introducing arithmetic expression examples. \n6. Create a code cell to multiply and add numbers.\n7. Create a code cell to convert minutes to hours.",
      "metadata": {}
    },
    {
      "cell_type": "markdown",
      "source": "## Author's name: Uzoma Ewurum",
      "metadata": {}
    },
    {
      "cell_type": "code",
      "source": "",
      "metadata": {},
      "execution_count": null,
      "outputs": []
    }
  ]
}