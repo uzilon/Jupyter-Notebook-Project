{
  "metadata": {
    "kernelspec": {
      "name": "python",
      "display_name": "Pyolite",
      "language": "python"
    },
    "language_info": {
      "codemirror_mode": {
        "name": "python",
        "version": 3
      },
      "file_extension": ".py",
      "mimetype": "text/x-python",
      "name": "python",
      "nbconvert_exporter": "python",
      "pygments_lexer": "ipython3",
      "version": "3.8"
    }
  },
  "nbformat_minor": 4,
  "nbformat": 4,
  "cells": [
    {
      "cell_type": "markdown",
      "source": "<center>\n    <img src=\"https://cf-courses-data.s3.us.cloud-object-storage.appdomain.cloud/IBMDeveloperSkillsNetwork-DS0105EN-SkillsNetwork/labs/Module2/images/SN_web_lightmode.png\" width=\"300\" alt=\"cognitiveclass.ai logo\">\n</center>\n",
      "metadata": {}
    },
    {
      "cell_type": "markdown",
      "source": "#### Add your code below following the instructions given in the course\n",
      "metadata": {}
    },
    {
      "cell_type": "markdown",
      "source": "# My Jupyter Notebook on IBM Watson Studio",
      "metadata": {}
    },
    {
      "cell_type": "markdown",
      "source": "**Uzoma Ewurum**\n\nData Scientist",
      "metadata": {}
    },
    {
      "cell_type": "markdown",
      "source": "*I am interested in data science because i love to gain insight and solves problems with data*",
      "metadata": {}
    },
    {
      "cell_type": "markdown",
      "source": "### This Code Shows the Use of Basic Math Functions in Python",
      "metadata": {}
    },
    {
      "cell_type": "code",
      "source": "a = 20\nb = 4\n\nprint(a+b)\nprint(a-b)\nprint(a*b)\nprint(a/b)\nprint(a%b)",
      "metadata": {
        "trusted": true
      },
      "execution_count": 4,
      "outputs": [
        {
          "name": "stdout",
          "text": "24\n16\n80\n5.0\n0\n",
          "output_type": "stream"
        }
      ]
    },
    {
      "cell_type": "markdown",
      "source": "1. Add\n2. Subtract\n3. Multiply\n4. Divide\n5. Modulus\n\n\nAdd | Subtract | Multiply | Divide | Modulus |\n----|----------|----------|--------|---------|\n|20+4= 24|20-4= 16|20* 4= 80| 20/4= 5.0 | 20%4 = 0|\n\n\n[Google meet liink - Click to Join](https://meet.google.com/oep-chqm-qif )",
      "metadata": {}
    },
    {
      "cell_type": "code",
      "source": "",
      "metadata": {},
      "execution_count": null,
      "outputs": []
    }
  ]
}